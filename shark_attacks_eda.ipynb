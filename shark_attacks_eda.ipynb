{
 "cells": [
  {
   "cell_type": "markdown",
   "id": "98f46941",
   "metadata": {},
   "source": [
    "# 🦈 Global Shark Attack File (GSAF) Analysis\n",
    "\n",
    "**Data Cleaning + Exploratory Data Analysis with Pandas**\n"
   ]
  },
  {
   "cell_type": "markdown",
   "id": "dbee084d",
   "metadata": {},
   "source": [
    "## Introduction\n",
    "\n",
    "This notebook explores and cleans data from the **Global Shark Attack File (GSAF)**, a dataset documenting shark attack incidents worldwide. The raw dataset contains messy, inconsistent data entries, which makes it an ideal candidate for demonstrating **data cleaning, wrangling, and exploratory data analysis (EDA)** with **Pandas**.\n",
    "\n",
    "### Goals of This Notebook:\n",
    "- Clean and standardize key columns (date, location, activity, etc.)\n",
    "- Analyze trends in shark attacks by year, location, and activity\n",
    "- Examine fatal vs. non-fatal incidents\n",
    "- Identify missing data patterns and anomalies\n",
    "\n",
    "### Dataset Source\n",
    "The data originates from the **GSAF (Global Shark Attack File)**, a publicly available database.  \n",
    "*(You can mention your data source link here if you have one.)*\n"
   ]
  },
  {
   "cell_type": "markdown",
   "id": "1ef7a8e2",
   "metadata": {},
   "source": [
    "## Data Overview\n",
    "\n",
    "The dataset contains hundreds of reported shark attack incidents from around the world. However, it comes in a **messy, semi-structured format** that includes:\n",
    "\n",
    "- Redundant or empty columns\n",
    "- Inconsistent date formats\n",
    "- Ambiguous or mislabeled entries\n",
    "- Variations in country, state, and activity descriptions\n",
    "- Non-uniform representations of gender and fatality status\n",
    "\n",
    "Before we can analyze trends or draw insights, we need to clean and standardize these fields to make the data usable.\n",
    "\n",
    "We'll focus primarily on:\n",
    "- **Filtering out empty or irrelevant columns**\n",
    "- **Standardizing key fields** like `Date`, `Country`, `Activity`, `Sex`, and `Fatal (Y/N)`\n",
    "- **Extracting trends by year and location**\n"
   ]
  },
  {
   "cell_type": "markdown",
   "id": "cc264edc",
   "metadata": {},
   "source": [
    "## Cleaning Strategy\n",
    "\n",
    "The dataset contains a number of irregularities and non-standard formats. My approach to cleaning includes:\n",
    "\n",
    "1. **Remove empty or redundant columns**  \n",
    "   Columns with mostly null values or metadata will be dropped.\n",
    "\n",
    "2. **Standardize key fields**  \n",
    "   - Parse and normalize `Date`, `Sex`, and `Fatal (Y/N)`\n",
    "   - Clean up categorical fields like `Country`, `State`, and `Activity`\n",
    "\n",
    "3. **Extract useful features**  \n",
    "   - Extract `Year` from `Date`\n",
    "   - Create simplified/fixed labels where appropriate\n",
    "\n",
    "4. **Handle missing values and anomalies**  \n",
    "   - Replace inconsistent entries (e.g., 'M', 'F', 'Male', 'female')  \n",
    "   - Address obvious typos or formatting issues\n",
    "\n",
    "After cleaning, the dataset will be ready for visual exploration and trend analysis.\n"
   ]
  },
  {
   "cell_type": "markdown",
   "id": "975488be",
   "metadata": {},
   "source": [
    "# Imports"
   ]
  },
  {
   "cell_type": "code",
   "execution_count": 35,
   "id": "254d872b",
   "metadata": {},
   "outputs": [],
   "source": [
    "# Core libraries\n",
    "import pandas as pd\n",
    "import seaborn as sns\n",
    "import matplotlib.pyplot as plt\n",
    "\n",
    "# Geospatial libraries\n",
    "import geopandas as gpd\n",
    "import geodatasets\n",
    "from shapely.geometry import Point\n",
    "\n",
    "# Visualization settings\n",
    "sns.set(style=\"whitegrid\")\n",
    "pd.set_option(\"display.max_columns\", 100)\n"
   ]
  },
  {
   "cell_type": "markdown",
   "id": "4b248f95",
   "metadata": {},
   "source": [
    "## Load GSAF Data"
   ]
  },
  {
   "cell_type": "markdown",
   "id": "81044dd3",
   "metadata": {},
   "source": [
    "## Load GSAF Dataset\n",
    "\n",
    "We'll load the Global Shark Attack File (GSAF), which is available in `.xls` format. The dataset contains a large number of entries going back over a century, but includes inconsistencies and noise we'll need to clean.\n"
   ]
  },
  {
   "cell_type": "code",
   "execution_count": 36,
   "id": "9e8bba97",
   "metadata": {},
   "outputs": [
    {
     "name": "stdout",
     "output_type": "stream",
     "text": [
      "Initial data shape: (7017, 23)\n"
     ]
    },
    {
     "data": {
      "text/html": [
       "<div>\n",
       "<style scoped>\n",
       "    .dataframe tbody tr th:only-of-type {\n",
       "        vertical-align: middle;\n",
       "    }\n",
       "\n",
       "    .dataframe tbody tr th {\n",
       "        vertical-align: top;\n",
       "    }\n",
       "\n",
       "    .dataframe thead th {\n",
       "        text-align: right;\n",
       "    }\n",
       "</style>\n",
       "<table border=\"1\" class=\"dataframe\">\n",
       "  <thead>\n",
       "    <tr style=\"text-align: right;\">\n",
       "      <th></th>\n",
       "      <th>Date</th>\n",
       "      <th>Year</th>\n",
       "      <th>Type</th>\n",
       "      <th>Country</th>\n",
       "      <th>State</th>\n",
       "      <th>Location</th>\n",
       "      <th>Activity</th>\n",
       "      <th>Name</th>\n",
       "      <th>Sex</th>\n",
       "      <th>Age</th>\n",
       "      <th>Injury</th>\n",
       "      <th>Fatal Y/N</th>\n",
       "      <th>Time</th>\n",
       "      <th>Species</th>\n",
       "      <th>Source</th>\n",
       "      <th>pdf</th>\n",
       "      <th>href formula</th>\n",
       "      <th>href</th>\n",
       "      <th>Case Number</th>\n",
       "      <th>Case Number.1</th>\n",
       "      <th>original order</th>\n",
       "      <th>Unnamed: 21</th>\n",
       "      <th>Unnamed: 22</th>\n",
       "    </tr>\n",
       "  </thead>\n",
       "  <tbody>\n",
       "    <tr>\n",
       "      <th>0</th>\n",
       "      <td>2025-05-29 00:00:00</td>\n",
       "      <td>2025.0</td>\n",
       "      <td>Unprovoked</td>\n",
       "      <td>USA</td>\n",
       "      <td>North Carolina</td>\n",
       "      <td>Sunset Beach</td>\n",
       "      <td>Swimming</td>\n",
       "      <td>Sean Barton</td>\n",
       "      <td>M</td>\n",
       "      <td>26</td>\n",
       "      <td>Gash to lower left leg</td>\n",
       "      <td>N</td>\n",
       "      <td>1100hrs</td>\n",
       "      <td>Not stated</td>\n",
       "      <td>Kevin McMurray Trackingsharks.com: Clay Crewel...</td>\n",
       "      <td>NaN</td>\n",
       "      <td>NaN</td>\n",
       "      <td>NaN</td>\n",
       "      <td>NaN</td>\n",
       "      <td>NaN</td>\n",
       "      <td>NaN</td>\n",
       "      <td>NaN</td>\n",
       "      <td>NaN</td>\n",
       "    </tr>\n",
       "    <tr>\n",
       "      <th>1</th>\n",
       "      <td>2025-05-15 00:00:00</td>\n",
       "      <td>2025.0</td>\n",
       "      <td>Unprovoked</td>\n",
       "      <td>Australia</td>\n",
       "      <td>South Australia</td>\n",
       "      <td>Port Noarlunga</td>\n",
       "      <td>Swimming</td>\n",
       "      <td>Richard Vinall</td>\n",
       "      <td>M</td>\n",
       "      <td>66</td>\n",
       "      <td>Injury to thigh</td>\n",
       "      <td>N</td>\n",
       "      <td>0945hrs</td>\n",
       "      <td>Not stated</td>\n",
       "      <td>Simon DeMarchi: Todd Smith: 9 News:ABC News</td>\n",
       "      <td>NaN</td>\n",
       "      <td>NaN</td>\n",
       "      <td>NaN</td>\n",
       "      <td>NaN</td>\n",
       "      <td>NaN</td>\n",
       "      <td>NaN</td>\n",
       "      <td>NaN</td>\n",
       "      <td>NaN</td>\n",
       "    </tr>\n",
       "    <tr>\n",
       "      <th>2</th>\n",
       "      <td>2025-05-08 00:00:00</td>\n",
       "      <td>2025.0</td>\n",
       "      <td>Unprovoked</td>\n",
       "      <td>Jamaica</td>\n",
       "      <td>Montego Bay</td>\n",
       "      <td>Rose Hall beach</td>\n",
       "      <td>Paddling</td>\n",
       "      <td>Rachel Smith</td>\n",
       "      <td>F</td>\n",
       "      <td>26</td>\n",
       "      <td>minor injuries to fingers of left hand</td>\n",
       "      <td>N</td>\n",
       "      <td>Not stated</td>\n",
       "      <td>Small shark 1m (3ft) long</td>\n",
       "      <td>The sun News: Metro: Kevin McMurray Tracking s...</td>\n",
       "      <td>NaN</td>\n",
       "      <td>NaN</td>\n",
       "      <td>NaN</td>\n",
       "      <td>NaN</td>\n",
       "      <td>NaN</td>\n",
       "      <td>NaN</td>\n",
       "      <td>NaN</td>\n",
       "      <td>NaN</td>\n",
       "    </tr>\n",
       "    <tr>\n",
       "      <th>3</th>\n",
       "      <td>2025-04-21 00:00:00</td>\n",
       "      <td>2025.0</td>\n",
       "      <td>Unprovoked</td>\n",
       "      <td>Israel</td>\n",
       "      <td>Hadera</td>\n",
       "      <td>Olga Beach near Hadera Stream</td>\n",
       "      <td>Diving</td>\n",
       "      <td>Barak Tzach</td>\n",
       "      <td>M</td>\n",
       "      <td>45</td>\n",
       "      <td>Remains recovered several days after the attcks</td>\n",
       "      <td>Y</td>\n",
       "      <td>1500hrs</td>\n",
       "      <td>Dusky sharks</td>\n",
       "      <td>Ynetnews.com: Dailymirroe.co.uk: Todd Smith Al...</td>\n",
       "      <td>NaN</td>\n",
       "      <td>NaN</td>\n",
       "      <td>NaN</td>\n",
       "      <td>NaN</td>\n",
       "      <td>NaN</td>\n",
       "      <td>NaN</td>\n",
       "      <td>NaN</td>\n",
       "      <td>NaN</td>\n",
       "    </tr>\n",
       "    <tr>\n",
       "      <th>4</th>\n",
       "      <td>2025-04-20 00:00:00</td>\n",
       "      <td>2025.0</td>\n",
       "      <td>Questionable</td>\n",
       "      <td>Mexico</td>\n",
       "      <td>Quntana Roo</td>\n",
       "      <td>Chac Mool Beach Cancun</td>\n",
       "      <td>Rescuing female companion</td>\n",
       "      <td>Alejandro Cortes</td>\n",
       "      <td>M</td>\n",
       "      <td>20</td>\n",
       "      <td>Victim drown and was scavenged by sharks</td>\n",
       "      <td>Y</td>\n",
       "      <td>Not stated</td>\n",
       "      <td>Not Staed</td>\n",
       "      <td>Mundo Now: Reutir\" Kevin McMurray Trackingshar...</td>\n",
       "      <td>NaN</td>\n",
       "      <td>NaN</td>\n",
       "      <td>NaN</td>\n",
       "      <td>NaN</td>\n",
       "      <td>NaN</td>\n",
       "      <td>NaN</td>\n",
       "      <td>NaN</td>\n",
       "      <td>NaN</td>\n",
       "    </tr>\n",
       "  </tbody>\n",
       "</table>\n",
       "</div>"
      ],
      "text/plain": [
       "                  Date    Year          Type    Country            State  \\\n",
       "0  2025-05-29 00:00:00  2025.0    Unprovoked        USA   North Carolina   \n",
       "1  2025-05-15 00:00:00  2025.0    Unprovoked  Australia  South Australia   \n",
       "2  2025-05-08 00:00:00  2025.0    Unprovoked    Jamaica      Montego Bay   \n",
       "3  2025-04-21 00:00:00  2025.0    Unprovoked     Israel           Hadera   \n",
       "4  2025-04-20 00:00:00  2025.0  Questionable     Mexico      Quntana Roo   \n",
       "\n",
       "                         Location                    Activity  \\\n",
       "0                    Sunset Beach                    Swimming   \n",
       "1                  Port Noarlunga                    Swimming   \n",
       "2                 Rose Hall beach                    Paddling   \n",
       "3  Olga Beach near Hadera Stream                       Diving   \n",
       "4          Chac Mool Beach Cancun  Rescuing female companion    \n",
       "\n",
       "               Name Sex Age                                           Injury  \\\n",
       "0       Sean Barton   M  26                           Gash to lower left leg   \n",
       "1    Richard Vinall   M  66                                  Injury to thigh   \n",
       "2      Rachel Smith   F  26           minor injuries to fingers of left hand   \n",
       "3       Barak Tzach   M  45  Remains recovered several days after the attcks   \n",
       "4  Alejandro Cortes   M  20         Victim drown and was scavenged by sharks   \n",
       "\n",
       "  Fatal Y/N        Time                   Species   \\\n",
       "0         N     1100hrs                 Not stated   \n",
       "1         N     0945hrs                 Not stated   \n",
       "2         N  Not stated  Small shark 1m (3ft) long   \n",
       "3         Y     1500hrs               Dusky sharks   \n",
       "4         Y  Not stated                  Not Staed   \n",
       "\n",
       "                                              Source  pdf href formula href  \\\n",
       "0  Kevin McMurray Trackingsharks.com: Clay Crewel...  NaN          NaN  NaN   \n",
       "1        Simon DeMarchi: Todd Smith: 9 News:ABC News  NaN          NaN  NaN   \n",
       "2  The sun News: Metro: Kevin McMurray Tracking s...  NaN          NaN  NaN   \n",
       "3  Ynetnews.com: Dailymirroe.co.uk: Todd Smith Al...  NaN          NaN  NaN   \n",
       "4  Mundo Now: Reutir\" Kevin McMurray Trackingshar...  NaN          NaN  NaN   \n",
       "\n",
       "  Case Number Case Number.1  original order Unnamed: 21 Unnamed: 22  \n",
       "0         NaN           NaN             NaN         NaN         NaN  \n",
       "1         NaN           NaN             NaN         NaN         NaN  \n",
       "2         NaN           NaN             NaN         NaN         NaN  \n",
       "3         NaN           NaN             NaN         NaN         NaN  \n",
       "4         NaN           NaN             NaN         NaN         NaN  "
      ]
     },
     "execution_count": 36,
     "metadata": {},
     "output_type": "execute_result"
    }
   ],
   "source": [
    "# Load the dataset from Excel file\n",
    "df = pd.read_excel(\"gsaf_latest.xls\")\n",
    "\n",
    "# Display shape and preview\n",
    "print(\"Initial data shape:\", df.shape)\n",
    "df.head()"
   ]
  },
  {
   "cell_type": "markdown",
   "id": "e04ab7f7",
   "metadata": {},
   "source": [
    "## Data Cleaning & Preparation\n",
    "\n",
    "This dataset includes many inconsistently labeled or irrelevant columns, messy date formats, and categorical values with typos. We'll walk through a few key steps:\n",
    "\n",
    "- Drop unnecessary columns\n",
    "- Parse and filter valid dates\n",
    "- Normalize key columns like `Fatal Y/N` and `Sex`\n",
    "- Standardize location and activity fields"
   ]
  },
  {
   "cell_type": "code",
   "execution_count": 37,
   "id": "c4dff6f5",
   "metadata": {},
   "outputs": [
    {
     "name": "stdout",
     "output_type": "stream",
     "text": [
      "============================================================\n",
      "DATA CLEANING & PREPARATION\n",
      "============================================================\n",
      "Dropped 11 columns: {'href', 'original order', 'Case Number.1', 'href formula', 'Case Number', 'Age', 'Time', 'Source', 'Unnamed: 22', 'pdf', 'Unnamed: 21'}\n",
      "Removed 876 rows with invalid dates\n",
      "Cleaning complete! DataFrame is ready for analysis.\n"
     ]
    },
    {
     "name": "stderr",
     "output_type": "stream",
     "text": [
      "C:\\Users\\83sro\\AppData\\Local\\Temp\\ipykernel_1372\\2274818723.py:34: FutureWarning: 'Y' is deprecated and will be removed in a future version, please use 'YE' instead.\n",
      "  .resample('Y')\n"
     ]
    }
   ],
   "source": [
    "print(\"=\"*60)\n",
    "print(\"DATA CLEANING & PREPARATION\")\n",
    "print(\"=\"*60)\n",
    "\n",
    "# 1. Drop metadata and empty columns\n",
    "before_cols = set(df.columns)\n",
    "drop_cols = [\n",
    "    \"Source\", \"pdf\", \"href formula\", \"href\",\n",
    "    \"Case Number\", \"Case Number.1\", \"original order\",\n",
    "    \"Unnamed: 21\", \"Unnamed: 22\", \"Time\", \"Age\"\n",
    "]\n",
    "df.drop(columns=drop_cols, errors=\"ignore\", inplace=True)\n",
    "dropped = before_cols - set(df.columns)\n",
    "print(f\"Dropped {len(dropped)} columns: {dropped}\")\n",
    "\n",
    "# 2. Parse dates and filter invalid rows\n",
    "initial_rows = len(df)\n",
    "df['Date'] = pd.to_datetime(df['Date'], errors='coerce')\n",
    "df = df[df['Date'].notna()].copy()\n",
    "print(f\"Removed {initial_rows - len(df)} rows with invalid dates\")\n",
    "\n",
    "# 3. Extract year and remove future entries\n",
    "df['Year'] = df['Date'].dt.year.astype(int)\n",
    "future_rows = (df['Year'] > 2025).sum()\n",
    "df = df[df['Year'] <= 2025]\n",
    "if future_rows:\n",
    "    print(f\"Removed {future_rows} rows with future dates\")\n",
    "\n",
    "df.rename(columns={\"Date\": \"date\"}, inplace=True)\n",
    "\n",
    "# 4. Count shark attacks by year\n",
    "attacks_by_year = (\n",
    "    df.set_index('date')\n",
    "      .resample('Y')\n",
    "      .size()\n",
    "      .rename(\"attack_count\")\n",
    ")\n",
    "\n",
    "# 5. Clean and standardize categorical data\n",
    "\n",
    "# Fatal Y/N\n",
    "df['Fatal Y/N'] = (\n",
    "    df['Fatal Y/N'].astype(str)\n",
    "      .str.strip().str.upper()\n",
    "      .str.extract(r'(YES|NO|Y|N)', expand=False)\n",
    "      .replace({'Y': 'YES', 'N': 'NO'})\n",
    "      .fillna('Unknown')\n",
    ")\n",
    "\n",
    "# Sex\n",
    "df['Sex'] = (\n",
    "    df['Sex'].astype(str)\n",
    "      .str.strip().str.upper()\n",
    "      .replace({'M': 'Male', 'F': 'Female'})\n",
    "      .fillna('Unknown')\n",
    ")\n",
    "\n",
    "# Text cleanup\n",
    "for col in ['Activity', 'Country', 'State']:\n",
    "    df[col] = (\n",
    "        df[col].astype(str)\n",
    "          .str.strip()\n",
    "          .str.title()\n",
    "          .fillna('Unknown')\n",
    "    )\n",
    "\n",
    "print(\"Cleaning complete! DataFrame is ready for analysis.\")\n",
    "\n"
   ]
  },
  {
   "cell_type": "markdown",
   "id": "e0aef32f",
   "metadata": {},
   "source": [
    "## Data Quality Sanity Check"
   ]
  },
  {
   "cell_type": "code",
   "execution_count": 38,
   "id": "00fb481b",
   "metadata": {},
   "outputs": [
    {
     "name": "stdout",
     "output_type": "stream",
     "text": [
      "==================================================\n",
      "DATA QUALITY SANITY CHECK\n",
      "==================================================\n",
      "Rows: 6141, Columns: 12\n",
      "Year range: 1691 to 2025\n",
      "\n",
      "Data types and non-null counts:\n",
      "<class 'pandas.core.frame.DataFrame'>\n",
      "Index: 6141 entries, 0 to 6880\n",
      "Data columns (total 12 columns):\n",
      " #   Column     Non-Null Count  Dtype         \n",
      "---  ------     --------------  -----         \n",
      " 0   date       6141 non-null   datetime64[ns]\n",
      " 1   Year       6141 non-null   int64         \n",
      " 2   Type       6127 non-null   object        \n",
      " 3   Country    6141 non-null   object        \n",
      " 4   State      6141 non-null   object        \n",
      " 5   Location   5771 non-null   object        \n",
      " 6   Activity   6141 non-null   object        \n",
      " 7   Name       5973 non-null   object        \n",
      " 8   Sex        6141 non-null   object        \n",
      " 9   Injury     6114 non-null   object        \n",
      " 10  Fatal Y/N  6141 non-null   object        \n",
      " 11  Species    3548 non-null   object        \n",
      "dtypes: datetime64[ns](1), int64(1), object(10)\n",
      "memory usage: 623.7+ KB\n",
      "\n",
      "Top missing-data columns:\n",
      "Species     0.422244\n",
      "Location    0.060251\n",
      "Name        0.027357\n",
      "Injury      0.004397\n",
      "Type        0.002280\n",
      "dtype: float64\n",
      "\n",
      "Fatal Y/N distribution:\n",
      "Fatal Y/N\n",
      "NO         4958\n",
      "YES        1175\n",
      "Unknown       8\n",
      "Name: count, dtype: int64\n"
     ]
    }
   ],
   "source": [
    "# --- Data Quality Sanity Check ---\n",
    "print(\"=\" * 50)\n",
    "print(\"DATA QUALITY SANITY CHECK\")\n",
    "print(\"=\" * 50)\n",
    "\n",
    "# 1. Basic shape and date range\n",
    "print(f\"Rows: {df.shape[0]}, Columns: {df.shape[1]}\")\n",
    "print(f\"Year range: {df['Year'].min()} to {df['Year'].max()}\\n\")\n",
    "\n",
    "# 2. Dtypes & non-null counts\n",
    "print(\"Data types and non-null counts:\")\n",
    "df.info()\n",
    "\n",
    "# 3. Top missing-data columns (if any)\n",
    "missing = df.isnull().mean().sort_values(ascending=False)\n",
    "missing = missing[missing > 0]\n",
    "print(\"\\nTop missing-data columns:\")\n",
    "print(missing.head(10) if not missing.empty else \"No missing data!\")\n",
    "\n",
    "# 4. Fatal vs. non-fatal counts\n",
    "print(\"\\nFatal Y/N distribution:\")\n",
    "print(df['Fatal Y/N'].value_counts(dropna=False))"
   ]
  },
  {
   "cell_type": "markdown",
   "id": "96a7437d",
   "metadata": {},
   "source": [
    "## Data Quality Sanity Check\n",
    "\n",
    "- **Final dataset:** 6,141 rows × 12 columns  \n",
    "- **Year range:** 1691–2025  \n",
    "- **Top missing-data columns:**  \n",
    "  - Species: 42.2% missing  \n",
    "  - Location: 6.0% missing  \n",
    "  - Name: 2.7% missing  \n",
    "  - Injury: 0.4% missing  \n",
    "  - Type: 0.2% missing  \n",
    "- **Fatal Y/N distribution:**  \n",
    "  - Unknown: 6,080  \n",
    "  - No: 61  "
   ]
  },
  {
   "cell_type": "markdown",
   "id": "4db42937",
   "metadata": {},
   "source": [
    "## Exploratory Analysis: Trends & Patterns"
   ]
  },
  {
   "cell_type": "code",
   "execution_count": 39,
   "id": "74849355",
   "metadata": {},
   "outputs": [
    {
     "name": "stdout",
     "output_type": "stream",
     "text": [
      "============================================================\n",
      "DIVING INTO THE DATA: INITIAL PATTERNS\n",
      "============================================================\n"
     ]
    }
   ],
   "source": [
    "# Diving Into the Data: Initial Patterns\n",
    "print(\"=\" * 60)\n",
    "print(\"DIVING INTO THE DATA: INITIAL PATTERNS\")\n",
    "print(\"=\" * 60)\n"
   ]
  },
  {
   "cell_type": "code",
   "execution_count": 40,
   "id": "441b47d7",
   "metadata": {},
   "outputs": [
    {
     "name": "stdout",
     "output_type": "stream",
     "text": [
      "Total shark attacks: 6141\n",
      "Average per year: 18.3\n",
      "Peak year: 1970\n"
     ]
    }
   ],
   "source": [
    "# --- Compute Summary Stats for Attack Timeline ---\n",
    "\n",
    "total_attacks = attacks_by_year.sum()\n",
    "avg_attacks   = attacks_by_year.mean()\n",
    "peak_year     = attacks_by_year.idxmax().year  # Extract year from Timestamp\n",
    "\n",
    "print(f\"Total shark attacks: {total_attacks}\")\n",
    "print(f\"Average per year: {avg_attacks:.1f}\")\n",
    "print(f\"Peak year: {peak_year}\")\n"
   ]
  },
  {
   "cell_type": "markdown",
   "id": "cf54de5b",
   "metadata": {},
   "source": [
    "### Shark Attack Summary (All Years)\n",
    "\n",
    "- **Total attacks:** 6,141\n",
    "- **Average per year:** 18.3\n",
    "- **Peak year:** 1970  \n"
   ]
  },
  {
   "cell_type": "code",
   "execution_count": 41,
   "id": "5cf186d2",
   "metadata": {},
   "outputs": [
    {
     "name": "stdout",
     "output_type": "stream",
     "text": [
      "Raw count for 2015: 142\n"
     ]
    },
    {
     "ename": "AttributeError",
     "evalue": "'int' object has no attribute 'date'",
     "output_type": "error",
     "traceback": [
      "\u001b[31m---------------------------------------------------------------------------\u001b[39m",
      "\u001b[31mAttributeError\u001b[39m                            Traceback (most recent call last)",
      "\u001b[36mCell\u001b[39m\u001b[36m \u001b[39m\u001b[32mIn[41]\u001b[39m\u001b[32m, line 4\u001b[39m\n\u001b[32m      2\u001b[39m raw_2015 = (df[\u001b[33m'\u001b[39m\u001b[33mYear\u001b[39m\u001b[33m'\u001b[39m] == \u001b[32m2015\u001b[39m).sum()\n\u001b[32m      3\u001b[39m \u001b[38;5;28mprint\u001b[39m(\u001b[33mf\u001b[39m\u001b[33m\"\u001b[39m\u001b[33mRaw count for 2015: \u001b[39m\u001b[38;5;132;01m{\u001b[39;00mraw_2015\u001b[38;5;132;01m}\u001b[39;00m\u001b[33m\"\u001b[39m)\n\u001b[32m----> \u001b[39m\u001b[32m4\u001b[39m \u001b[38;5;28mprint\u001b[39m(\u001b[33mf\u001b[39m\u001b[33m\"\u001b[39m\u001b[33mPeak year (from time series): \u001b[39m\u001b[38;5;132;01m{\u001b[39;00m\u001b[43mpeak_year\u001b[49m\u001b[43m.\u001b[49m\u001b[43mdate\u001b[49m()\u001b[38;5;132;01m}\u001b[39;00m\u001b[33m with \u001b[39m\u001b[38;5;132;01m{\u001b[39;00mpeak_count\u001b[38;5;132;01m}\u001b[39;00m\u001b[33m attacks\u001b[39m\u001b[33m\"\u001b[39m)\n",
      "\u001b[31mAttributeError\u001b[39m: 'int' object has no attribute 'date'"
     ]
    }
   ],
   "source": [
    "# Sanity check: Was 2015 really the peak?\n",
    "raw_2015 = (df['Year'] == 2015).sum()\n",
    "print(f\"Raw count for 2015: {raw_2015}\")\n",
    "print(f\"Peak year (from time series): {peak_year.date()} with {peak_count} attacks\")\n",
    "\n"
   ]
  },
  {
   "cell_type": "markdown",
   "id": "be7f3108",
   "metadata": {},
   "source": [
    "#### 1. Shark Attacks by Year (1995–2025)\n",
    "\n",
    "- **Years covered:** 1995–2025  \n",
    "- **Total attacks:** 2,938  \n",
    "- **Average per year:** 94.8  \n",
    "- **Peak year:** 2015 (142 attacks)  \n",
    "\n",
    "This bar chart visualizes the frequency of reported shark attacks annually from 1995 to 2025, using cleaned and filtered GSAF data. It highlights peak years and helps assess general trends over time."
   ]
  },
  {
   "cell_type": "code",
   "execution_count": null,
   "id": "207e0ca8",
   "metadata": {},
   "outputs": [
    {
     "data": {
      "image/png": "[encoded data removed]",
      "text/plain": [
       "<Figure size 1200x500 with 1 Axes>"
      ]
     },
     "metadata": {},
     "output_type": "display_data"
    }
   ],
   "source": [
    "# 1. Shark Attacks per Year (1995–2025)\n",
    "attacks_by_year = (\n",
    "    df['Year']\n",
    "      .value_counts()\n",
    "      .sort_index()\n",
    "      .loc[1995:]\n",
    ")\n",
    "\n",
    "import matplotlib.pyplot as plt\n",
    "\n",
    "plt.figure(figsize=(12, 5))\n",
    "attacks_by_year.plot(kind='bar', alpha=0.8)      # default color\n",
    "plt.title('Shark Attacks per Year (1995–2025)', fontsize=14, fontweight='bold')\n",
    "plt.xlabel('Year', fontsize=12)\n",
    "plt.ylabel('Number of Attacks', fontsize=12)\n",
    "plt.xticks(rotation=45, ha='right')\n",
    "plt.grid(axis='y', alpha=0.3)\n",
    "plt.tight_layout()\n",
    "plt.show()\n"
   ]
  },
  {
   "cell_type": "markdown",
   "id": "8bc3e4f7",
   "metadata": {},
   "source": [
    "> The data show a gradual rise in recorded attacks through the 2000s, peaking in 2015, with a sharp dip in 2020 likely tied to reduced beach activity during the pandemic."
   ]
  },
  {
   "cell_type": "markdown",
   "id": "a7495024",
   "metadata": {},
   "source": [
    "#### 2. Geographic Distribution of Shark Attacks\n",
    "\n",
    "- **Top country:** United States (2,395 attacks)  \n",
    "- **Countries represented:** 182  \n",
    "- **Top 10 countries account for:** 80.9% of all recorded attacks  \n",
    "\n",
    "This horizontal bar chart displays the top 10 countries with the highest number of recorded shark attacks. The data highlights a strong geographic skew, with the vast majority of incidents concentrated in a handful of coastal nations."
   ]
  },
  {
   "cell_type": "code",
   "execution_count": null,
   "id": "c79e5415",
   "metadata": {},
   "outputs": [
    {
     "data": {
      "image/png": "[encoded data removed]",
      "text/plain": [
       "<Figure size 1000x600 with 1 Axes>"
      ]
     },
     "metadata": {},
     "output_type": "display_data"
    }
   ],
   "source": [
    "# 2. Top 10 Countries by Shark Attack Frequency\n",
    "top_countries = df['Country'].value_counts().head(10)\n",
    "\n",
    "import matplotlib.pyplot as plt\n",
    "\n",
    "plt.figure(figsize=(10, 6))\n",
    "top_countries.plot(kind='barh', alpha=0.8)\n",
    "plt.title('Top 10 Countries by Shark Attack Frequency', fontsize=14, fontweight='bold')\n",
    "plt.xlabel('Number of Attacks', fontsize=12)\n",
    "plt.ylabel('Country', fontsize=12)\n",
    "plt.gca().invert_yaxis()       # largest bar at top\n",
    "plt.grid(axis='x', alpha=0.3)\n",
    "plt.tight_layout()\n",
    "plt.show()\n"
   ]
  },
  {
   "cell_type": "code",
   "execution_count": null,
   "id": "d24ef18c",
   "metadata": {},
   "outputs": [
    {
     "name": "stdout",
     "output_type": "stream",
     "text": [
      "Top country: Usa (2395 attacks)\n",
      "Countries represented: 182\n",
      "Top 10 countries = 80.9% of all attacks\n"
     ]
    }
   ],
   "source": [
    "print(f\"Top country: {top_country} ({top_country_ct} attacks)\")\n",
    "print(f\"Countries represented: {unique_countries}\")\n",
    "print(f\"Top 10 countries = {pct_top10:.1f}% of all attacks\")"
   ]
  },
  {
   "cell_type": "markdown",
   "id": "d6b435e7",
   "metadata": {},
   "source": [
    "> The United States leads by a wide margin, and the top 10 countries together account for over two-thirds of global shark incidents."
   ]
  },
  {
   "cell_type": "code",
   "execution_count": null,
   "id": "b3974f7f",
   "metadata": {},
   "outputs": [
    {
     "name": "stdout",
     "output_type": "stream",
     "text": [
      "Total attacks: 6141\n",
      "Fatal: 1175 (19.1%)\n",
      "Non-fatal: 4958 (80.7%)\n",
      "Unknown outcome: 8 (0.1%)\n"
     ]
    }
   ],
   "source": [
    "# Compute real numbers for Attack Severity Analysis\n",
    "total_attacks = len(df)\n",
    "fatal       = (df['Fatal Y/N'] == 'YES').sum()\n",
    "non_fatal   = (df['Fatal Y/N'] == 'NO').sum()\n",
    "unknown     = (df['Fatal Y/N'] == 'Unknown').sum()\n",
    "\n",
    "fatal_pct     = fatal      / total_attacks * 100\n",
    "non_fatal_pct = non_fatal  / total_attacks * 100\n",
    "unknown_pct   = unknown    / total_attacks * 100\n",
    "\n",
    "print(f\"Total attacks: {total_attacks}\")\n",
    "print(f\"Fatal: {fatal} ({fatal_pct:.1f}%)\")\n",
    "print(f\"Non-fatal: {non_fatal} ({non_fatal_pct:.1f}%)\")\n",
    "print(f\"Unknown outcome: {unknown} ({unknown_pct:.1f}%)\")\n"
   ]
  },
  {
   "cell_type": "markdown",
   "id": "f8a09a7f",
   "metadata": {},
   "source": [
    "#### 3. Attack Severity Analysis\n",
    "\n",
    "- **Total attacks analyzed:** 6,141  \n",
    "- **Fatal:** 1,175 (19.1 %)  \n",
    "- **Non-fatal:** 4,958 (80.7%)  \n",
    "- **Unknown outcome:** 8 (0.1%)  "
   ]
  },
  {
   "cell_type": "code",
   "execution_count": null,
   "id": "d470eae2",
   "metadata": {},
   "outputs": [
    {
     "data": {
      "image/png": "[encoded data removed]",
      "text/plain": [
       "<Figure size 800x500 with 1 Axes>"
      ]
     },
     "metadata": {},
     "output_type": "display_data"
    }
   ],
   "source": [
    "# 3. Fatal vs Non-Fatal Shark Attacks\n",
    "import matplotlib.pyplot as plt\n",
    "\n",
    "fatal_counts = df['Fatal Y/N'].value_counts().loc[['YES', 'NO', 'Unknown']]\n",
    "\n",
    "plt.figure(figsize=(8, 5))\n",
    "fatal_counts.plot(kind='bar', alpha=0.8)\n",
    "plt.title('Fatal vs Non-Fatal Shark Attacks', fontsize=14, fontweight='bold')\n",
    "plt.xlabel('Attack Outcome', fontsize=12)\n",
    "plt.ylabel('Number of Attacks', fontsize=12)\n",
    "plt.grid(axis='y', alpha=0.3)\n",
    "plt.tight_layout()\n",
    "plt.show()"
   ]
  },
  {
   "cell_type": "markdown",
   "id": "06919202",
   "metadata": {},
   "source": [
    "> Only about 18 % of recorded shark encounters result in fatalities, highlighting that while these events are frightening, most encounters are non-fatal."
   ]
  },
  {
   "cell_type": "markdown",
   "id": "4e363d6f",
   "metadata": {},
   "source": [
    "## Supplemental: Activity Breakdown (Not Used in Final Analysis)"
   ]
  },
  {
   "cell_type": "markdown",
   "id": "74dd8d8d",
   "metadata": {},
   "source": [
    "While the dataset contains information on the victim’s activity at the time of the attack, this analysis focuses on environmental factors and temporal patterns rather than human behavior."
   ]
  },
  {
   "cell_type": "code",
   "execution_count": null,
   "id": "4a60d389",
   "metadata": {},
   "outputs": [
    {
     "name": "stdout",
     "output_type": "stream",
     "text": [
      "Unique activities: 1341\n",
      "Top activity: Surfing (1114 attacks)\n",
      "Top 10 activities account for: 63.3% of all attacks\n"
     ]
    }
   ],
   "source": [
    "# # Compute summary stats for “Attack Frequency by Activity”\n",
    "# unique_activities      = df['Activity'].nunique()\n",
    "# activity_counts        = df['Activity'].value_counts()\n",
    "# top_activity           = activity_counts.index[0]\n",
    "# top_activity_count     = activity_counts.iloc[0]\n",
    "# top10_activities_pct   = activity_counts.head(10).sum() / len(df) * 100\n",
    "\n",
    "# print(f\"Unique activities: {unique_activities}\")\n",
    "# print(f\"Top activity: {top_activity} ({top_activity_count} attacks)\")\n",
    "# print(f\"Top 10 activities account for: {top10_activities_pct:.1f}% of all attacks\")\n"
   ]
  },
  {
   "cell_type": "markdown",
   "id": "bc5e3858",
   "metadata": {},
   "source": [
    "### Attack Frequency by Activity\n",
    "\n",
    "- **Total unique activities recorded:** 1,341  \n",
    "- **Top activity:** Surfing (1,114 attacks)  \n",
    "- **Top 10 activities account for:** 63.3% of attacks  \n"
   ]
  },
  {
   "cell_type": "code",
   "execution_count": null,
   "id": "f336f41f",
   "metadata": {},
   "outputs": [
    {
     "data": {
      "image/png": "[encoded data removed]",
      "text/plain": [
       "<Figure size 1000x600 with 1 Axes>"
      ]
     },
     "metadata": {},
     "output_type": "display_data"
    }
   ],
   "source": [
    "# # 4. Top 10 Activities by Number of Shark Attacks\n",
    "# import matplotlib.pyplot as plt\n",
    "\n",
    "# activity_counts = df['Activity'].value_counts().head(10)\n",
    "\n",
    "# plt.figure(figsize=(10, 6))\n",
    "# activity_counts.plot(kind='barh', alpha=0.8)\n",
    "# plt.title('Top 10 Activities by Shark Attack Frequency', fontsize=14, fontweight='bold')\n",
    "# plt.xlabel('Number of Attacks', fontsize=12)\n",
    "# plt.ylabel('Activity', fontsize=12)\n",
    "# plt.gca().invert_yaxis()\n",
    "# plt.grid(axis='x', alpha=0.3)\n",
    "# plt.tight_layout()\n",
    "# plt.show()\n"
   ]
  },
  {
   "cell_type": "code",
   "execution_count": null,
   "id": "f21b8424",
   "metadata": {},
   "outputs": [
    {
     "name": "stdout",
     "output_type": "stream",
     "text": [
      "Surfing: 1114 attacks, 18.1% of all incidents\n",
      "Swimming: 921 attacks, 15.0% of all incidents\n"
     ]
    }
   ],
   "source": [
    "# total = len(df)\n",
    "\n",
    "# for act in [\"Surfing\", \"Swimming\"]:\n",
    "#     count = (df[\"Activity\"] == act).sum()\n",
    "#     pct   = count / total * 100\n",
    "#     print(f\"{act}: {count} attacks, {pct:.1f}% of all incidents\")\n"
   ]
  }
 ],
 "metadata": {
  "kernelspec": {
   "display_name": "Python 3",
   "language": "python",
   "name": "python3"
  },
  "language_info": {
   "codemirror_mode": {
    "name": "ipython",
    "version": 3
   },
   "file_extension": ".py",
   "mimetype": "text/x-python",
   "name": "python",
   "nbconvert_exporter": "python",
   "pygments_lexer": "ipython3",
   "version": "3.13.5"
  }
 },
 "nbformat": 4,
 "nbformat_minor": 5
}
